{
 "cells": [
  {
   "cell_type": "code",
   "execution_count": 6,
   "id": "168025d6-a20a-477e-893c-e1754d15e4ca",
   "metadata": {},
   "outputs": [],
   "source": [
    "import numpy as np\n",
    "import math"
   ]
  },
  {
   "cell_type": "raw",
   "id": "f87d77a5-9bc9-464f-88bf-5a10d689c76a",
   "metadata": {},
   "source": []
  },
  {
   "cell_type": "markdown",
   "id": "556c3cef-7fa5-4d21-be97-d1adb0a9d413",
   "metadata": {},
   "source": [
    "\n",
    "5.b)"
   ]
  },
  {
   "cell_type": "code",
   "execution_count": 7,
   "id": "f1fa43ea-568a-4167-b725-bd95dd2be81f",
   "metadata": {},
   "outputs": [],
   "source": [
    "def matrix (N,c):\n",
    "    A = np.zeros((N+1, N+1))\n",
    "    for i in range (1,N):\n",
    "        A[i][i] = -c\n",
    "        A[i][i+1] = 1\n",
    "        A[i+1][i] = 1\n",
    "        A[0][0] = 1\n",
    "        # BC at the end of the hallway (last eqn of matrix)\n",
    "        A[N][N] = 1\n",
    "        A[N][N-1] = -1\n",
    "        # BC at the start of the hallway (first eqn of matrix)\n",
    "        A[1][0] = 1\n",
    "        A[0][1] = -1\n",
    "        \n",
    "    return A"
   ]
  },
  {
   "cell_type": "raw",
   "id": "7d667d11-cdcc-4f13-86d9-2a8f8181ced5",
   "metadata": {},
   "source": []
  },
  {
   "cell_type": "markdown",
   "id": "7e880f6a-c03b-4438-a154-f9c018c93e73",
   "metadata": {},
   "source": [
    "\n",
    "5.c)"
   ]
  },
  {
   "cell_type": "code",
   "execution_count": 8,
   "id": "43d289c7-270e-4b90-b0b6-304fdfb5f121",
   "metadata": {},
   "outputs": [
    {
     "name": "stdout",
     "output_type": "stream",
     "text": [
      "A1 =  [[ 1.        -1.         0.         0.         0.         0.\n",
      "   0.       ]\n",
      " [ 1.        -2.0617284  1.         0.         0.         0.\n",
      "   0.       ]\n",
      " [ 0.         1.        -2.0617284  1.         0.         0.\n",
      "   0.       ]\n",
      " [ 0.         0.         1.        -2.0617284  1.         0.\n",
      "   0.       ]\n",
      " [ 0.         0.         0.         1.        -2.0617284  1.\n",
      "   0.       ]\n",
      " [ 0.         0.         0.         0.         1.        -2.0617284\n",
      "   1.       ]\n",
      " [ 0.         0.         0.         0.         0.        -1.\n",
      "   1.       ]]\n",
      "solution to A1 =  [0.02149364 0.02149364 0.0178204  0.0152472  0.01361517 0.01282359\n",
      " 0.01282359]\n"
     ]
    }
   ],
   "source": [
    "alpha_0 = -0.005\n",
    "gamma = 1/3600\n",
    "kappa = 0.05\n",
    "x = 20\n",
    "N = 6\n",
    "c = math.pow((x/N),2)*gamma/kappa +2\n",
    "\n",
    "A1 = matrix(N,c)\n",
    "F = np.full(N+1, 0, dtype=np.float64)\n",
    "F[1] = alpha_0\n",
    "print('A1 = ', A1)\n",
    "#print(F)\n",
    "sol_A1 = np.linalg.solve(A1, F)\n",
    "print('solution to A1 = ', sol_A1)"
   ]
  },
  {
   "cell_type": "raw",
   "id": "513051ff-1747-42f7-a6b4-227e831ec957",
   "metadata": {},
   "source": []
  },
  {
   "cell_type": "markdown",
   "id": "5a4c22f5-fbb1-4f40-bc37-2cfb2489c5bf",
   "metadata": {},
   "source": [
    "5.d)"
   ]
  },
  {
   "cell_type": "code",
   "execution_count": 9,
   "id": "e00d744b-7d5a-4670-98eb-dc2995b712bb",
   "metadata": {},
   "outputs": [
    {
     "name": "stdout",
     "output_type": "stream",
     "text": [
      "A1 condition number =  89.19782488209792\n"
     ]
    }
   ],
   "source": [
    "cond = np.linalg.cond(A1)\n",
    "print('A1 condition number = ', cond)"
   ]
  },
  {
   "cell_type": "raw",
   "id": "9dde8f6a-e4b3-4a50-a714-86e60b71f3ef",
   "metadata": {},
   "source": []
  },
  {
   "cell_type": "markdown",
   "id": "39b9c2fb-696d-4309-807f-5e415365d93c",
   "metadata": {},
   "source": [
    "5.e)"
   ]
  },
  {
   "cell_type": "code",
   "execution_count": 10,
   "id": "1b74f927-f3f2-4602-a8bc-0a6fd22ce355",
   "metadata": {},
   "outputs": [
    {
     "name": "stdout",
     "output_type": "stream",
     "text": [
      "A2 condition number =  1.760929342622134e+17\n"
     ]
    },
    {
     "ename": "LinAlgError",
     "evalue": "Singular matrix",
     "output_type": "error",
     "traceback": [
      "\u001b[0;31m---------------------------------------------------------------------------\u001b[0m",
      "\u001b[0;31mLinAlgError\u001b[0m                               Traceback (most recent call last)",
      "Cell \u001b[0;32mIn[10], line 5\u001b[0m\n\u001b[1;32m      3\u001b[0m cond_A2 \u001b[38;5;241m=\u001b[39m np\u001b[38;5;241m.\u001b[39mlinalg\u001b[38;5;241m.\u001b[39mcond(A2)\n\u001b[1;32m      4\u001b[0m \u001b[38;5;28mprint\u001b[39m(\u001b[38;5;124m'\u001b[39m\u001b[38;5;124mA2 condition number = \u001b[39m\u001b[38;5;124m'\u001b[39m, cond_A2)\n\u001b[0;32m----> 5\u001b[0m sol_A2 \u001b[38;5;241m=\u001b[39m \u001b[43mnp\u001b[49m\u001b[38;5;241;43m.\u001b[39;49m\u001b[43mlinalg\u001b[49m\u001b[38;5;241;43m.\u001b[39;49m\u001b[43msolve\u001b[49m\u001b[43m(\u001b[49m\u001b[43mA2\u001b[49m\u001b[43m,\u001b[49m\u001b[43mF\u001b[49m\u001b[43m)\u001b[49m\n\u001b[1;32m      6\u001b[0m \u001b[38;5;28mprint\u001b[39m(sol_A2)\n",
      "File \u001b[0;32m~/miniforge3/envs/numeric_2024/lib/python3.12/site-packages/numpy/linalg/linalg.py:409\u001b[0m, in \u001b[0;36msolve\u001b[0;34m(a, b)\u001b[0m\n\u001b[1;32m    407\u001b[0m signature \u001b[38;5;241m=\u001b[39m \u001b[38;5;124m'\u001b[39m\u001b[38;5;124mDD->D\u001b[39m\u001b[38;5;124m'\u001b[39m \u001b[38;5;28;01mif\u001b[39;00m isComplexType(t) \u001b[38;5;28;01melse\u001b[39;00m \u001b[38;5;124m'\u001b[39m\u001b[38;5;124mdd->d\u001b[39m\u001b[38;5;124m'\u001b[39m\n\u001b[1;32m    408\u001b[0m extobj \u001b[38;5;241m=\u001b[39m get_linalg_error_extobj(_raise_linalgerror_singular)\n\u001b[0;32m--> 409\u001b[0m r \u001b[38;5;241m=\u001b[39m \u001b[43mgufunc\u001b[49m\u001b[43m(\u001b[49m\u001b[43ma\u001b[49m\u001b[43m,\u001b[49m\u001b[43m \u001b[49m\u001b[43mb\u001b[49m\u001b[43m,\u001b[49m\u001b[43m \u001b[49m\u001b[43msignature\u001b[49m\u001b[38;5;241;43m=\u001b[39;49m\u001b[43msignature\u001b[49m\u001b[43m,\u001b[49m\u001b[43m \u001b[49m\u001b[43mextobj\u001b[49m\u001b[38;5;241;43m=\u001b[39;49m\u001b[43mextobj\u001b[49m\u001b[43m)\u001b[49m\n\u001b[1;32m    411\u001b[0m \u001b[38;5;28;01mreturn\u001b[39;00m wrap(r\u001b[38;5;241m.\u001b[39mastype(result_t, copy\u001b[38;5;241m=\u001b[39m\u001b[38;5;28;01mFalse\u001b[39;00m))\n",
      "File \u001b[0;32m~/miniforge3/envs/numeric_2024/lib/python3.12/site-packages/numpy/linalg/linalg.py:112\u001b[0m, in \u001b[0;36m_raise_linalgerror_singular\u001b[0;34m(err, flag)\u001b[0m\n\u001b[1;32m    111\u001b[0m \u001b[38;5;28;01mdef\u001b[39;00m \u001b[38;5;21m_raise_linalgerror_singular\u001b[39m(err, flag):\n\u001b[0;32m--> 112\u001b[0m     \u001b[38;5;28;01mraise\u001b[39;00m LinAlgError(\u001b[38;5;124m\"\u001b[39m\u001b[38;5;124mSingular matrix\u001b[39m\u001b[38;5;124m\"\u001b[39m)\n",
      "\u001b[0;31mLinAlgError\u001b[0m: Singular matrix"
     ]
    }
   ],
   "source": [
    "c2 = math.pow((x/N),2)*0/kappa + 2\n",
    "A2 = matrix(N,c2)\n",
    "cond_A2 = np.linalg.cond(A2)\n",
    "print('A2 condition number = ', cond_A2)\n",
    "sol_A2 = np.linalg.solve(A2,F)\n",
    "print(sol_A2)"
   ]
  },
  {
   "cell_type": "markdown",
   "id": "41112b3e-d887-40a3-8e40-8ed74ab0fa49",
   "metadata": {},
   "source": [
    "The code above results in an error: Singular Matrix. The matrix has no single solution for the system of linear equations, and the condition number has gotten really big. Physically, this is because gamma is the rate at which the smoke sticks to the walls so if gamma is zero, then our DE becomes, \n",
    "$$\\gamma = 0$$\n",
    "$$\\frac{d^{2}S}{dx^{2}} = \\frac{\\alpha(x)}{\\kappa}.$$\n",
    "This means that there is no spatial dissapation of smoke, so our equation doesn't work anymore."
   ]
  },
  {
   "cell_type": "raw",
   "id": "be301a17-8768-4ff4-bd64-130f869fc4d6",
   "metadata": {},
   "source": []
  },
  {
   "cell_type": "markdown",
   "id": "ebe44dd1-9995-44e2-9cc8-86c297526134",
   "metadata": {},
   "source": [
    "5.f)"
   ]
  },
  {
   "cell_type": "code",
   "execution_count": 11,
   "id": "e6f1c2df-6ee6-4f30-9d3a-c81ce01cdb75",
   "metadata": {},
   "outputs": [
    {
     "ename": "LinAlgError",
     "evalue": "Singular matrix",
     "output_type": "error",
     "traceback": [
      "\u001b[0;31m---------------------------------------------------------------------------\u001b[0m",
      "\u001b[0;31mLinAlgError\u001b[0m                               Traceback (most recent call last)",
      "Cell \u001b[0;32mIn[11], line 2\u001b[0m\n\u001b[1;32m      1\u001b[0m alpha \u001b[38;5;241m=\u001b[39m np\u001b[38;5;241m.\u001b[39mfull(N\u001b[38;5;241m+\u001b[39m\u001b[38;5;241m1\u001b[39m, \u001b[38;5;241m0\u001b[39m, dtype\u001b[38;5;241m=\u001b[39mnp\u001b[38;5;241m.\u001b[39mfloat64)\n\u001b[0;32m----> 2\u001b[0m s \u001b[38;5;241m=\u001b[39m \u001b[43mnp\u001b[49m\u001b[38;5;241;43m.\u001b[39;49m\u001b[43mlinalg\u001b[49m\u001b[38;5;241;43m.\u001b[39;49m\u001b[43msolve\u001b[49m\u001b[43m(\u001b[49m\u001b[43mA2\u001b[49m\u001b[43m,\u001b[49m\u001b[43m \u001b[49m\u001b[43malpha\u001b[49m\u001b[43m)\u001b[49m\n",
      "File \u001b[0;32m~/miniforge3/envs/numeric_2024/lib/python3.12/site-packages/numpy/linalg/linalg.py:409\u001b[0m, in \u001b[0;36msolve\u001b[0;34m(a, b)\u001b[0m\n\u001b[1;32m    407\u001b[0m signature \u001b[38;5;241m=\u001b[39m \u001b[38;5;124m'\u001b[39m\u001b[38;5;124mDD->D\u001b[39m\u001b[38;5;124m'\u001b[39m \u001b[38;5;28;01mif\u001b[39;00m isComplexType(t) \u001b[38;5;28;01melse\u001b[39;00m \u001b[38;5;124m'\u001b[39m\u001b[38;5;124mdd->d\u001b[39m\u001b[38;5;124m'\u001b[39m\n\u001b[1;32m    408\u001b[0m extobj \u001b[38;5;241m=\u001b[39m get_linalg_error_extobj(_raise_linalgerror_singular)\n\u001b[0;32m--> 409\u001b[0m r \u001b[38;5;241m=\u001b[39m \u001b[43mgufunc\u001b[49m\u001b[43m(\u001b[49m\u001b[43ma\u001b[49m\u001b[43m,\u001b[49m\u001b[43m \u001b[49m\u001b[43mb\u001b[49m\u001b[43m,\u001b[49m\u001b[43m \u001b[49m\u001b[43msignature\u001b[49m\u001b[38;5;241;43m=\u001b[39;49m\u001b[43msignature\u001b[49m\u001b[43m,\u001b[49m\u001b[43m \u001b[49m\u001b[43mextobj\u001b[49m\u001b[38;5;241;43m=\u001b[39;49m\u001b[43mextobj\u001b[49m\u001b[43m)\u001b[49m\n\u001b[1;32m    411\u001b[0m \u001b[38;5;28;01mreturn\u001b[39;00m wrap(r\u001b[38;5;241m.\u001b[39mastype(result_t, copy\u001b[38;5;241m=\u001b[39m\u001b[38;5;28;01mFalse\u001b[39;00m))\n",
      "File \u001b[0;32m~/miniforge3/envs/numeric_2024/lib/python3.12/site-packages/numpy/linalg/linalg.py:112\u001b[0m, in \u001b[0;36m_raise_linalgerror_singular\u001b[0;34m(err, flag)\u001b[0m\n\u001b[1;32m    111\u001b[0m \u001b[38;5;28;01mdef\u001b[39;00m \u001b[38;5;21m_raise_linalgerror_singular\u001b[39m(err, flag):\n\u001b[0;32m--> 112\u001b[0m     \u001b[38;5;28;01mraise\u001b[39;00m LinAlgError(\u001b[38;5;124m\"\u001b[39m\u001b[38;5;124mSingular matrix\u001b[39m\u001b[38;5;124m\"\u001b[39m)\n",
      "\u001b[0;31mLinAlgError\u001b[0m: Singular matrix"
     ]
    }
   ],
   "source": [
    "alpha = np.full(N+1, 0, dtype=np.float64)\n",
    "s = np.linalg.solve(A2, alpha)"
   ]
  },
  {
   "cell_type": "markdown",
   "id": "e42c3975-e2f3-46ce-ae91-f257d3f26ece",
   "metadata": {},
   "source": [
    "With $\\alpha = 0$ and $\\gamma = 0$, we get the same \"error: Singular Matrix\", so there is also no single solution. Now our equation becomes, \n",
    "$$\\frac{d^{2}S}{dx^{2}} = 0.$$\n",
    "This is indicating that there is no spatial change in the concentration of smoke, so it is no longer representative of our system so our equation doesn't work anymore."
   ]
  },
  {
   "cell_type": "code",
   "execution_count": null,
   "id": "74ad0836-3826-472f-be6b-a93134b6faf3",
   "metadata": {},
   "outputs": [],
   "source": []
  }
 ],
 "metadata": {
  "kernelspec": {
   "display_name": "Python 3 (ipykernel)",
   "language": "python",
   "name": "python3"
  },
  "language_info": {
   "codemirror_mode": {
    "name": "ipython",
    "version": 3
   },
   "file_extension": ".py",
   "mimetype": "text/x-python",
   "name": "python",
   "nbconvert_exporter": "python",
   "pygments_lexer": "ipython3",
   "version": "3.12.2"
  }
 },
 "nbformat": 4,
 "nbformat_minor": 5
}
