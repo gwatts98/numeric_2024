{
 "cells": [
  {
   "cell_type": "code",
   "execution_count": null,
   "id": "f5c4300d-e23e-4fa2-a715-c5d9d75b8707",
   "metadata": {},
   "outputs": [],
   "source": []
  },
  {
   "cell_type": "code",
   "execution_count": 11,
   "id": "625061b3-1fb2-49a7-8203-d035181b3708",
   "metadata": {},
   "outputs": [],
   "source": [
    "import numpy as np\n",
    "import math\n",
    "from sympy import MatrixSymbol as matsym"
   ]
  },
  {
   "cell_type": "code",
   "execution_count": 20,
   "id": "09678fce-9f07-400e-af95-997e5ab823aa",
   "metadata": {},
   "outputs": [],
   "source": [
    "def matrix (N):\n",
    "    A = np.zeros((N+1, N+1))\n",
    "    # for i in range (1,N):\n",
    "    L = Symbol('L', commutative=True) \n",
    "    C = Symbol('C', commutative=True) \n",
    "    D = Symbol('D', commutative=True) \n",
    "    e = Symbol('e', commutative=True)\n",
    "    #row 1\n",
    "    A[0][0] = np.exp(-L)\n",
    "    A[0][1] = -np.exp(-L)\n",
    "    A[0][2] = -np.exp(L)\n",
    "    #row 2\n",
    "    A[1][1] = 1\n",
    "    A[1][2] = 1\n",
    "    A[1][3] = -1\n",
    "    A[1][4] = -1\n",
    "    #row 3\n",
    "    A[2][3] = np.exp(L)\n",
    "    A[2][4] = np.exp(-L)\n",
    "    A[2][5] = -np.exp(-L)\n",
    "    #row 4\n",
    "    A[3][0] = -C*np.exp(-L)\n",
    "    A[3][1] = (C+D)*np.exp(-L)\n",
    "    A[3][2] = -(C+D)*np.exp(L)\n",
    "    #row 5\n",
    "    A[4][1] = -C+D\n",
    "    A[4][2] = C+D\n",
    "    A[4][3] = C-D\n",
    "    A[4][4] = -(C+D)\n",
    "    #row 6\n",
    "    A[5][3] = -(C+D)*np.exp(L)\n",
    "    A[5][4] = (C-D)*np.exp(-L)\n",
    "    A[5][5] = -C*np.exp(-L)\n",
    "    # # BC at the end of the hallway (last eqn of matrix)\n",
    "    # A[N][N] = 1\n",
    "    # A[N][N-1] = -1\n",
    "    # # BC at the start of the hallway (first eqn of matrix)\n",
    "    # A[1][0] = 1\n",
    "    # A[0][1] = -1\n",
    "        \n",
    "    return A"
   ]
  },
  {
   "cell_type": "code",
   "execution_count": 15,
   "id": "0bd340c4-75d1-4e68-84c7-3c2c7fe09007",
   "metadata": {},
   "outputs": [],
   "source": [
    "def matrix (N):\n",
    "    A = np.zeros((N+1, N+1))\n",
    "    # for i in range (1,N):\n",
    "    # L = Symbol('L', commutative=True) \n",
    "    C = Symbol('C', commutative=True) \n",
    "    D = Symbol('D', commutative=True) \n",
    "    e = Symbol('e', commutative=True)\n",
    "    E = Symbol('E', commutative=True)\n",
    "    # e = exp(-kL)\n",
    "    # E = exp(kL)\n",
    "    #row 1\n",
    "    A[0][0] = matsym(e,N,N)\n",
    "    # A[0][1] = -e\n",
    "    matsym(-e,0,1)\n",
    "    # A[0][2] = -E\n",
    "    matsym(-E,0,2)\n",
    "    #row 2\n",
    "    # A[1][1] = 1\n",
    "    # A[1][2] = 1\n",
    "    # A[1][3] = -1\n",
    "    # A[1][4] = -1\n",
    "    matsym(1,1,1)\n",
    "    matsym(1,1,2)\n",
    "    matsym(-1,1,3)\n",
    "    matsym(-1,1,4)\n",
    "    #row 3\n",
    "    # A[2][3] = E\n",
    "    # A[2][4] = e\n",
    "    # A[2][5] = -e\n",
    "    matsym(E,2,3)\n",
    "    matsym(e,2,4)\n",
    "    matsym(-e,2,5)\n",
    "    #row 4\n",
    "    # A[3][0] = -C*e\n",
    "    # A[3][1] = (C+D)*e\n",
    "    # A[3][2] = -(C+D)*E\n",
    "    matsym(-C*e,3,0)\n",
    "    matsym((C+D)*e,3,1)\n",
    "    matsym(-(C+D)*E,3,2)\n",
    "    #row 5\n",
    "    # A[4][1] = -C+D\n",
    "    # A[4][2] = C+D\n",
    "    # A[4][3] = C-D\n",
    "    # A[4][4] = -(C+D)\n",
    "    matsym(-C+D,4,1)\n",
    "    matsym(C+D,4,2)\n",
    "    matsym(C-D,4,3)\n",
    "    matsym(-(C+D),4,4)\n",
    "    #row 6\n",
    "    # A[5][3] = -(C+D)*E\n",
    "    # A[5][4] = (C-D)*e\n",
    "    # A[5][5] = -C*e\n",
    "    matsym(-(C+D)*E,5,3)\n",
    "    matsym((C-D)*e,5,4)\n",
    "    matsym(-C*e,5,5)\n",
    "        \n",
    "    return A"
   ]
  },
  {
   "cell_type": "code",
   "execution_count": 16,
   "id": "15575a95-9af7-4891-b189-98d9db29dbf0",
   "metadata": {},
   "outputs": [
    {
     "ename": "ValueError",
     "evalue": "setting an array element with a sequence.",
     "output_type": "error",
     "traceback": [
      "\u001b[0;31m---------------------------------------------------------------------------\u001b[0m",
      "\u001b[0;31mTypeError\u001b[0m                                 Traceback (most recent call last)",
      "File \u001b[0;32m/opt/miniconda3/envs/numeric_2024/lib/python3.12/site-packages/sympy/core/expr.py:351\u001b[0m, in \u001b[0;36mExpr.__float__\u001b[0;34m(self)\u001b[0m\n\u001b[1;32m    350\u001b[0m     \u001b[38;5;28;01mraise\u001b[39;00m \u001b[38;5;167;01mTypeError\u001b[39;00m(\u001b[38;5;124m\"\u001b[39m\u001b[38;5;124mCannot convert complex to float\u001b[39m\u001b[38;5;124m\"\u001b[39m)\n\u001b[0;32m--> 351\u001b[0m \u001b[38;5;28;01mraise\u001b[39;00m \u001b[38;5;167;01mTypeError\u001b[39;00m(\u001b[38;5;124m\"\u001b[39m\u001b[38;5;124mCannot convert expression to float\u001b[39m\u001b[38;5;124m\"\u001b[39m)\n",
      "\u001b[0;31mTypeError\u001b[0m: Cannot convert expression to float",
      "\nThe above exception was the direct cause of the following exception:\n",
      "\u001b[0;31mValueError\u001b[0m                                Traceback (most recent call last)",
      "Cell \u001b[0;32mIn[16], line 11\u001b[0m\n\u001b[1;32m      1\u001b[0m \u001b[38;5;66;03m# alpha_0 = -0.005\u001b[39;00m\n\u001b[1;32m      2\u001b[0m \u001b[38;5;66;03m# gamma = 1/3600\u001b[39;00m\n\u001b[1;32m      3\u001b[0m \u001b[38;5;66;03m# kappa = 0.05\u001b[39;00m\n\u001b[0;32m   (...)\u001b[0m\n\u001b[1;32m      8\u001b[0m \u001b[38;5;66;03m# C = MatrixSymbol('C')\u001b[39;00m\n\u001b[1;32m      9\u001b[0m \u001b[38;5;66;03m# D = MatrixSymbol('D')\u001b[39;00m\n\u001b[1;32m     10\u001b[0m N \u001b[38;5;241m=\u001b[39m \u001b[38;5;241m5\u001b[39m\n\u001b[0;32m---> 11\u001b[0m A1 \u001b[38;5;241m=\u001b[39m \u001b[43mmatrix\u001b[49m\u001b[43m(\u001b[49m\u001b[43mN\u001b[49m\u001b[43m)\u001b[49m\n\u001b[1;32m     12\u001b[0m \u001b[38;5;66;03m# F = np.full(N+1, 0, dtype=np.float64)\u001b[39;00m\n\u001b[1;32m     13\u001b[0m \u001b[38;5;66;03m# F[1] = alpha_0\u001b[39;00m\n\u001b[1;32m     14\u001b[0m \u001b[38;5;66;03m# print('A1 = ', A1)\u001b[39;00m\n\u001b[1;32m     15\u001b[0m \u001b[38;5;66;03m# #print(F)\u001b[39;00m\n\u001b[1;32m     16\u001b[0m \u001b[38;5;66;03m# sol_A1 = np.linalg.solve(A1, F)\u001b[39;00m\n\u001b[1;32m     17\u001b[0m \u001b[38;5;66;03m# print('solution to A1 = ', sol_A1)\u001b[39;00m\n",
      "Cell \u001b[0;32mIn[15], line 12\u001b[0m, in \u001b[0;36mmatrix\u001b[0;34m(N)\u001b[0m\n\u001b[1;32m      8\u001b[0m E \u001b[38;5;241m=\u001b[39m Symbol(\u001b[38;5;124m'\u001b[39m\u001b[38;5;124mE\u001b[39m\u001b[38;5;124m'\u001b[39m, commutative\u001b[38;5;241m=\u001b[39m\u001b[38;5;28;01mTrue\u001b[39;00m)\n\u001b[1;32m      9\u001b[0m \u001b[38;5;66;03m# e = exp(-kL)\u001b[39;00m\n\u001b[1;32m     10\u001b[0m \u001b[38;5;66;03m# E = exp(kL)\u001b[39;00m\n\u001b[1;32m     11\u001b[0m \u001b[38;5;66;03m#row 1\u001b[39;00m\n\u001b[0;32m---> 12\u001b[0m \u001b[43mA\u001b[49m\u001b[43m[\u001b[49m\u001b[38;5;241;43m0\u001b[39;49m\u001b[43m]\u001b[49m\u001b[43m[\u001b[49m\u001b[38;5;241;43m0\u001b[39;49m\u001b[43m]\u001b[49m \u001b[38;5;241m=\u001b[39m matsym(e,N,N)\n\u001b[1;32m     13\u001b[0m \u001b[38;5;66;03m# A[0][1] = -e\u001b[39;00m\n\u001b[1;32m     14\u001b[0m matsym(\u001b[38;5;241m-\u001b[39me,\u001b[38;5;241m0\u001b[39m,\u001b[38;5;241m1\u001b[39m)\n",
      "\u001b[0;31mValueError\u001b[0m: setting an array element with a sequence."
     ]
    }
   ],
   "source": [
    "# alpha_0 = -0.005\n",
    "# gamma = 1/3600\n",
    "# kappa = 0.05\n",
    "# x = 20\n",
    "# N = 6\n",
    "# c = math.pow((x/N),2)*gamma/kappa +2\n",
    "# L = MatrixSymbol('L')                                                                                                                   \n",
    "# C = MatrixSymbol('C')\n",
    "# D = MatrixSymbol('D')\n",
    "N = 5\n",
    "A1 = matrix(N)\n",
    "# F = np.full(N+1, 0, dtype=np.float64)\n",
    "# F[1] = alpha_0\n",
    "# print('A1 = ', A1)\n",
    "# #print(F)\n",
    "# sol_A1 = np.linalg.solve(A1, F)\n",
    "# print('solution to A1 = ', sol_A1)"
   ]
  },
  {
   "cell_type": "code",
   "execution_count": 14,
   "id": "733d1065-b8b4-42a1-9de1-7278ed795f79",
   "metadata": {},
   "outputs": [
    {
     "data": {
      "text/plain": [
       "array([[0., 0., 0., 0., 0., 0.],\n",
       "       [0., 0., 0., 0., 0., 0.],\n",
       "       [0., 0., 0., 0., 0., 0.],\n",
       "       [0., 0., 0., 0., 0., 0.],\n",
       "       [0., 0., 0., 0., 0., 0.],\n",
       "       [0., 0., 0., 0., 0., 0.]])"
      ]
     },
     "execution_count": 14,
     "metadata": {},
     "output_type": "execute_result"
    }
   ],
   "source": [
    "A1"
   ]
  },
  {
   "cell_type": "code",
   "execution_count": null,
   "id": "af679313-20d2-4f73-a5cc-ddc5fcd431ab",
   "metadata": {},
   "outputs": [],
   "source": []
  }
 ],
 "metadata": {
  "kernelspec": {
   "display_name": "Python 3 (ipykernel)",
   "language": "python",
   "name": "python3"
  },
  "language_info": {
   "codemirror_mode": {
    "name": "ipython",
    "version": 3
   },
   "file_extension": ".py",
   "mimetype": "text/x-python",
   "name": "python",
   "nbconvert_exporter": "python",
   "pygments_lexer": "ipython3",
   "version": "3.12.2"
  }
 },
 "nbformat": 4,
 "nbformat_minor": 5
}
