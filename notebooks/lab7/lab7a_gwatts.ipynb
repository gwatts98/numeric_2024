{
 "cells": [
  {
   "cell_type": "code",
   "execution_count": null,
   "id": "49f7bf8c-fbc9-4355-9991-cd1f8805bf12",
   "metadata": {},
   "outputs": [],
   "source": []
  },
  {
   "cell_type": "markdown",
   "id": "c2b2f3a9-86b1-4f49-94e8-cafdfc683797",
   "metadata": {},
   "source": [
    "### Problem Four\n",
    "\n",
    "[lab7:prob:accurate]:(#Problem-Four)\n",
    "\n",
    "Which grid gives the best accuracy for $d=R/2$?\n",
    "Explain in what ways it is more accurate.  Consider the accuracy of the frequency, but also the accuracy of the group speed (the gradient of the frequency with respect to wavenumber).  Describe what ranges of wavenumber the accuracy is good and what ranges it is less good.\n"
   ]
  },
  {
   "cell_type": "markdown",
   "id": "5f637572-7bd8-4da8-b65f-6bcb43b6a558",
   "metadata": {},
   "source": [
    "For grid 1\n",
    "$$\\omega ^2 = f^2 \\cos^2(\\frac{kd}{2}) + \\frac{4gH \\sin^2(\\frac{kd}{2})}{d^2}$$\n",
    "\n",
    "$$\\omega ^2 = f^2 \\cos^2(\\frac{kR}{4}) + \\frac{4gH \\sin^2(\\frac{kR}{4})}{(R/2)^2}$$"
   ]
  },
  {
   "cell_type": "markdown",
   "id": "3e4a2586-6b21-408d-a86c-192781628b81",
   "metadata": {},
   "source": [
    "Show that for grid 2\n",
    "$$\\omega ^2 = f^2  + \\frac{4gH \\sin^2(\\frac{kd}{2})}{d^2}$$\n",
    "$$\\omega ^2 = f^2  + \\frac{4gH \\sin^2(\\frac{kR}{4})}{(R/2)^2}$$"
   ]
  },
  {
   "cell_type": "code",
   "execution_count": null,
   "id": "776aaabe-555c-41fc-9ce0-961e04622089",
   "metadata": {},
   "outputs": [],
   "source": []
  },
  {
   "cell_type": "code",
   "execution_count": null,
   "id": "fd2d101a-0aa6-4460-aed3-35f7aff3caf9",
   "metadata": {},
   "outputs": [],
   "source": []
  },
  {
   "cell_type": "markdown",
   "id": "54ae6a69-d7c2-47a0-beb3-c5a279c625eb",
   "metadata": {},
   "source": [
    "### Problem Five\n",
    "\n",
    "[lab7:prob:noy]:(#Problem-Five)\n",
    "\n",
    "Modify *rain.py* to solve equations\n",
    "([No variation in y, first eqn](#lab7:sec:firsteq)), ([No variation in y, second eqn](#lab7:sec:secondeq)) and ([No variation in y, third eqn](#lab7:sec:thirdeq)) on the most accurate\n",
    "grid."
   ]
  },
  {
   "cell_type": "markdown",
   "id": "9c3e5774-619a-4046-b44e-62d0a9ab6513",
   "metadata": {},
   "source": [
    "\n",
    "<div id='lab7:sec:firsteq'>\n",
    "(No variation in y, first eqn)\n",
    "$$\\frac{\\partial u}{\\partial t} - fv = -g\\frac{\\partial h}{\\partial x}$$ \n",
    "</div><div id='lab7:sec:secondeq'>\n",
    "(No variation in y, second eqn)\n",
    "$$\\frac{\\partial v}{\\partial t} + fu = 0$$\n",
    "</div><div id='lab7:sec:thirdeq'>\n",
    "(No variation in y, third eqn)\n",
    "$$\\frac{\\partial h}{\\partial t} + H\\frac{\\partial u}{\\partial x} = 0$$\n",
    "</div>"
   ]
  },
  {
   "cell_type": "code",
   "execution_count": null,
   "id": "8f2992b5-f6a5-439c-b8b0-55e0e59ecb4a",
   "metadata": {},
   "outputs": [],
   "source": [
    "from numlabs.lab7 import rain\n",
    "# Run 5 time steps on a 9 point grid\n",
    "rain.rain(5,9)"
   ]
  },
  {
   "cell_type": "code",
   "execution_count": null,
   "id": "caec1b85-dc65-48ef-9556-39ef589e78ba",
   "metadata": {},
   "outputs": [],
   "source": []
  },
  {
   "cell_type": "code",
   "execution_count": null,
   "id": "4ec85d35-7785-462e-8e35-69a1dd3f3406",
   "metadata": {},
   "outputs": [],
   "source": []
  },
  {
   "cell_type": "code",
   "execution_count": null,
   "id": "99678e34-19e3-42e8-9e48-0218195df012",
   "metadata": {},
   "outputs": [],
   "source": []
  },
  {
   "cell_type": "code",
   "execution_count": null,
   "id": "7f84b3a5-02af-4219-90e3-c3a9086d023d",
   "metadata": {},
   "outputs": [],
   "source": []
  }
 ],
 "metadata": {
  "kernelspec": {
   "display_name": "Python 3 (ipykernel)",
   "language": "python",
   "name": "python3"
  },
  "language_info": {
   "codemirror_mode": {
    "name": "ipython",
    "version": 3
   },
   "file_extension": ".py",
   "mimetype": "text/x-python",
   "name": "python",
   "nbconvert_exporter": "python",
   "pygments_lexer": "ipython3",
   "version": "3.12.2"
  }
 },
 "nbformat": 4,
 "nbformat_minor": 5
}
