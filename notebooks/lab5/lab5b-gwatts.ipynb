{
 "cells": [
  {
   "cell_type": "markdown",
   "id": "53de014a-3a90-444c-b1f7-fb50e22f7739",
   "metadata": {},
   "source": [
    "5b: Add foxes to DaisyWorld"
   ]
  },
  {
   "cell_type": "code",
   "execution_count": null,
   "id": "43c1deb4-c253-4a4e-80f1-136828fdf146",
   "metadata": {},
   "outputs": [],
   "source": []
  },
  {
   "cell_type": "markdown",
   "id": "96f43a34-20ab-49e0-872c-ae5491b6442b",
   "metadata": {},
   "source": [
    "The rate of change of the fox population will like:\n",
    "$$\n",
    "\\frac{dA_f}{dt} = A_f ( BR_f x - \\chi_f)\n",
    "$$\n",
    "where $\\chi_f$ is the fox death rate, $x_f$ is the fraction of space available to the foxes, and $BR_f$ is the fox birth rate,\n",
    "$$\n",
    "BR_f = C_{BR_f} x_f A_r.\n",
    "$$\n",
    "The foxes will effect the rabbit population so their population equation becomes,\n",
    "$$\n",
    "\\frac{dA_r}{dt} = A_r ( BR_r * x_r - \\chi_r) - GR_f\n",
    "$$\n",
    "where,\n",
    "$$\n",
    "GR_f = C_{GR_f} A_r A_f\n",
    "$$\n",
    "and,\n",
    "$$\n",
    "BR_r = C_{BR_r}(x_r(A_w + A_b)).\n",
    "$$\n",
    "\n",
    "\n",
    "The rate of change of the white daisies population is still,\n",
    "$$\n",
    "\\frac{dA_w}{dt} = A_w ( \\beta_w x - \\chi) - GR_w\n",
    "$$\n",
    "\n",
    "and the rate of change of the black daisies is,\n",
    "$$\n",
    "\\frac{dA_b}{dt} = A_b ( \\beta_b x - \\chi) - GR_b\n",
    "$$\n",
    "\n",
    "where \n",
    "$$\n",
    "GR_w = C_{GR_r} * A_r * A_w\n",
    "$$\n",
    "$$\n",
    "GR_b = C_{GR_r} * A_r * A_b\n",
    "$$"
   ]
  },
  {
   "cell_type": "markdown",
   "id": "24eedda6-f166-4501-8419-ba0e13b4d091",
   "metadata": {},
   "source": [
    "$A_f$ = fox population \\\n",
    "$A_r$ = rabbit population \\\n",
    "$A_w, A_b$ = daisie populations \\\n",
    "$BR_f$ = fox birth rate \\\n",
    "$BR_r$ = rabbit birth rate \\\n",
    "$C_{BR_f}, C_{BR_r}$ = fox and rabbit birth rate coefficient \\\n",
    "$GR_f$ = fox grazing rate \\\n",
    "$GR_r$ = rabbit grazing rate \\\n",
    "$C_{GR_f}, C_{GR_r}$ = fox and rabbit grazing rate coefficient \\\n",
    "$x,x_r,x_f$ = fractional space available for each species \\\n",
    "$\\chi, \\chi_r, \\chi_f$ = the death rate of each species \n"
   ]
  },
  {
   "cell_type": "code",
   "execution_count": 13,
   "id": "421fba4a-d8d6-4e7b-b392-4b9f8e50462e",
   "metadata": {
    "ExecuteTime": {
     "end_time": "2022-02-17T03:40:23.936568Z",
     "start_time": "2022-02-17T03:40:23.927965Z"
    },
    "code_folding": [
     0
    ]
   },
   "outputs": [],
   "source": [
    "# functions for problem initial\n",
    "import context\n",
    "from numlabs.lab5.lab5_funs import Integrator\n",
    "import numpy as np\n",
    "from collections import namedtuple\n",
    "\n",
    "\n",
    "class RabInteg54(Integrator):\n",
    "    def set_yinit(self):\n",
    "        #\n",
    "        # read in 'albedo_white chi S0 L albedo_black R albedo_ground'\n",
    "        #\n",
    "        uservars = namedtuple('uservars', self.config['uservars'].keys())\n",
    "        self.uservars = uservars(**self.config['uservars'])\n",
    "        #\n",
    "        # read in 'whiteconc blackconc rab_i fox_i'\n",
    "        #\n",
    "        initvars = namedtuple('initvars', self.config['initvars'].keys())\n",
    "        self.initvars = initvars(**self.config['initvars'])\n",
    "        self.yinit = np.array(\n",
    "            [self.initvars.whiteconc, self.initvars.blackconc, self.initvars.rab_i, self.initvars.fox_i])\n",
    "        self.nvars = len(self.yinit)\n",
    "        return None\n",
    "\n",
    "    def __init__(self, coeff_file_name):\n",
    "        super().__init__(coeff_file_name)\n",
    "        self.set_yinit()\n",
    "\n",
    "    def find_temp(self, yvals):\n",
    "        \"\"\"\n",
    "            Calculate the temperatures over the white and black daisies\n",
    "            and the planetary equilibrium temperature given the daisy fractions\n",
    "            \n",
    "            input:  yvals -- array of dimension [2] with the white [0] and black [1]\n",
    "                    daisy fractiion\n",
    "            output:  white temperature (K), black temperature (K), equilibrium temperature (K)\n",
    "        \"\"\"\n",
    "        sigma = 5.67e-8  # Stefan Boltzman constant W/m^2/K^4\n",
    "        user = self.uservars\n",
    "        bare = 1.0 - yvals[0] - yvals[1]\n",
    "        albedo_p = bare * user.albedo_ground + \\\n",
    "            yvals[0] * user.albedo_white + yvals[1] * user.albedo_black\n",
    "        Te_4 = user.S0 / 4.0 * user.L * (1.0 - albedo_p) / sigma\n",
    "        temp_e = Te_4**0.25\n",
    "        eta = user.R * user.L * user.S0 / (4.0 * sigma)\n",
    "        temp_b = (eta * (albedo_p - user.albedo_black) + Te_4)**0.25\n",
    "        temp_w = (eta * (albedo_p - user.albedo_white) + Te_4)**0.25\n",
    "        return (temp_w, temp_b, temp_e)\n",
    "\n",
    "    def derivs5(self, y, t):\n",
    "        \"\"\"y[0]=fraction white daisies\n",
    "           y[1]=fraction black daisies\n",
    "           y[2]=initial rabbits\n",
    "           no feedback between daisies and\n",
    "           albedo_p (set to ground albedo)\n",
    "        \"\"\"\n",
    "        \n",
    "        temp_w, temp_b, temp_e = self.find_temp(y)\n",
    "\n",
    "        if (temp_b >= 277.5 and temp_b <= 312.5):\n",
    "            beta_b = 1.0 - 0.003265 * (295.0 - temp_b)**2.0\n",
    "        else:\n",
    "            beta_b = 0.0\n",
    "\n",
    "        if (temp_w >= 277.5 and temp_w <= 312.5):\n",
    "            beta_w = 1.0 - 0.003265 * (295.0 - temp_w)**2.0\n",
    "        else:\n",
    "            beta_w = 0.0\n",
    "        user = self.uservars\n",
    "        bare = 1.0 - y[0] - y[1]\n",
    "        \n",
    "        #beta is the daisie growth rate\n",
    "        #chi is the daisie death rate\n",
    "        #bare is the fractional coverage of the daisies\n",
    "\n",
    "        #rab_i = y[2]\n",
    "        # rabbits can exist on top of daisies\n",
    "        barerab = 1.0 - y[2]\n",
    "        barefox = 1.0 - y[3]\n",
    "\n",
    "        # fox and rabbit birth rate\n",
    "        rab_br = user.Crbr * (barerab * (y[0] + y[1]))\n",
    "        fox_br = user.Cfbr * (barefox * y[2])\n",
    "        \n",
    "        # fox and rabbit grazing rate \n",
    "        wd_graze = user.Crgr * y[2] * y[0]\n",
    "        bd_graze = user.Crgr * y[2] * y[1]\n",
    "        r_graze = user.Cfgr * y[3] * y[2]\n",
    "\n",
    "        # create a 1 x 2 element vector to hold the derivitive\n",
    "        # the grazing rate is subtracted from the\n",
    "        f = np.empty_like(y)\n",
    "        f[0] = y[0] * (beta_w * bare - user.chi) - wd_graze\n",
    "        f[1] = y[1] * (beta_b * bare - user.chi) - bd_graze\n",
    "    \n",
    "        # add the rabbit population to f\n",
    "        f[2] = y[2] * (rab_br * barerab - user.rabchi) - r_graze\n",
    "\n",
    "        # fox population\n",
    "        f[3] = y[3] * (fox_br * barefox - user.foxchi)\n",
    "        return f"
   ]
  },
  {
   "cell_type": "code",
   "execution_count": 26,
   "id": "875a7ba4-cba0-4126-aee7-e147b06077cc",
   "metadata": {
    "ExecuteTime": {
     "end_time": "2022-02-17T03:40:24.818994Z",
     "start_time": "2022-02-17T03:40:23.938484Z"
    },
    "code_folding": [
     0
    ]
   },
   "outputs": [
    {
     "name": "stdout",
     "output_type": "stream",
     "text": [
      "Black daisie steady state value =  1.7136246851378733e-13\n"
     ]
    },
    {
     "data": {
      "image/png": "[encoded data removed]",
      "text/plain": [
       "<Figure size 640x480 with 1 Axes>"
      ]
     },
     "metadata": {},
     "output_type": "display_data"
    }
   ],
   "source": [
    "# Solve and plot for problem initial\n",
    "import matplotlib.pyplot as plt\n",
    "import pandas as pd\n",
    "\n",
    "theSolver = RabInteg54('initial-grace1.yaml')\n",
    "timevals, yvals, errorlist = theSolver.timeloop5fixed()\n",
    "species = pd.DataFrame(yvals, columns=['white', 'black', 'rabbits', 'foxes'])\n",
    "\n",
    "thefig, theAx = plt.subplots(1, 1)\n",
    "line1, = theAx.plot(timevals, species['white'])\n",
    "line2, = theAx.plot(timevals, species['black'])\n",
    "line3, = theAx.plot(timevals, species['rabbits'])\n",
    "line4, = theAx.plot(timevals, species['foxes'])\n",
    "line1.set(linestyle='--', color='r', label='white daisies')\n",
    "line2.set(linestyle='--', color='k', label='black daisies')\n",
    "line3.set(linestyle='--', color='b', label='rabbits')\n",
    "line4.set(linestyle='--', color='g', label='foxes')\n",
    "#theAx.set_title('C_rbr = 1, C_rgr = 1, chi_rabbits = 0.3')\n",
    "theAx.set_xlabel('time')\n",
    "theAx.set_ylabel('fractional coverage')\n",
    "out = theAx.legend(loc='center right')\n",
    "print('Black daisie steady state value = ', yvals[-1,1])"
   ]
  },
  {
   "cell_type": "code",
   "execution_count": null,
   "id": "8df9b79c-6c00-4d1b-bb71-d0fbb48d29ba",
   "metadata": {},
   "outputs": [],
   "source": []
  }
 ],
 "metadata": {
  "kernelspec": {
   "display_name": "Python 3 (ipykernel)",
   "language": "python",
   "name": "python3"
  },
  "language_info": {
   "codemirror_mode": {
    "name": "ipython",
    "version": 3
   },
   "file_extension": ".py",
   "mimetype": "text/x-python",
   "name": "python",
   "nbconvert_exporter": "python",
   "pygments_lexer": "ipython3",
   "version": "3.12.2"
  }
 },
 "nbformat": 4,
 "nbformat_minor": 5
}
