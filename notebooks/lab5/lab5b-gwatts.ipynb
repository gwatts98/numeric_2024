{
 "cells": [
  {
   "cell_type": "markdown",
   "id": "70bfb0b1-bad1-42fe-a82f-c0a9b3e8a16f",
   "metadata": {},
   "source": [
    "EOSC 511: Lab 5b"
   ]
  },
  {
   "cell_type": "markdown",
   "id": "cd300d86-5247-430e-ab33-75450f3638e4",
   "metadata": {},
   "source": [
    "Add foxes that prey on rabbits to Daisy World. By changing the various degrees of freedom in this problem, look for “predator-prey” oscillations, in which the fox and rabbit populations go through periodic highs and lows. Hand-in a discussion and plots describing and showing the most interesting oscillations/longest non-trivial steady state you can find. Discuss the following:\n",
    "\n",
    " - what this simulation can teach us about the real World.\n",
    " - the limitations of your model\n",
    " - some discussion of whether the various parameter values you use are reasonable, given what you know about daisies and mammals (e.g. what do your birth and death rates tell you about the average lifespan of a fox vs a rabbit vs a daisy on your planet, or the number of rabbits being born per rabbit?).\n",
    " - describe (but don't code, and equations aren't necessary), an additional layer of complexity that could be added to the model to make it more realistic"
   ]
  },
  {
   "cell_type": "markdown",
   "id": "a8bc34dc-ac5a-4758-b701-5fd7db803ca7",
   "metadata": {},
   "source": [
    "1. Add the foxes to DaisyWorld:"
   ]
  },
  {
   "cell_type": "markdown",
   "id": "ed36b3e9-042b-4e59-9cef-2813be598330",
   "metadata": {},
   "source": [
    "The rate of change of the fox population will like:\n",
    "$$\n",
    "\\frac{dA_f}{dt} = A_f ( BR_f - \\chi_f)\n",
    "$$\n",
    "where $\\chi_f$ is the fox death rate, $x_f$ is the fraction of space available to the foxes, and $BR_f$ is the fox birth rate,\n",
    "$$\n",
    "BR_f = C_{BR_f} x_f A_r.\n",
    "$$\n",
    "The foxes will effect the rabbit population so their population equation becomes,\n",
    "$$\n",
    "\\frac{dA_r}{dt} = A_r ( BR_r - \\chi_r) - GR_f\n",
    "$$\n",
    "where,\n",
    "$$\n",
    "GR_f = C_{GR_f} A_f A_r\n",
    "$$\n",
    "and,\n",
    "$$\n",
    "BR_r = C_{BR_r}(x_r(A_w + A_b)).\n",
    "$$\n",
    "(I've fixed where I was multiplying by x_r twice in lab 5a.)\n",
    "\n",
    "The rate of change of the white daisies population is still,\n",
    "$$\n",
    "\\frac{dA_w}{dt} = A_w ( \\beta_w x - \\chi) - GR_w\n",
    "$$\n",
    "\n",
    "and the rate of change of the black daisies is,\n",
    "$$\n",
    "\\frac{dA_b}{dt} = A_b ( \\beta_b x - \\chi) - GR_b\n",
    "$$\n",
    "\n",
    "where \n",
    "$$\n",
    "GR_w = C_{GR_r} A_r A_w\n",
    "$$\n",
    "$$\n",
    "GR_b = C_{GR_r} A_r A_b\n",
    "$$"
   ]
  },
  {
   "cell_type": "markdown",
   "id": "220863c8-c10a-4b0c-81e5-d572a5102848",
   "metadata": {},
   "source": [
    "$A_f$ = fox population \\\n",
    "$A_r$ = rabbit population \\\n",
    "$A_w, A_b$ = daisie populations \\\n",
    "$BR_f$ = fox birth rate \\\n",
    "$BR_r$ = rabbit birth rate \\\n",
    "$C_{BR_f}, C_{BR_r}$ = fox and rabbit birth rate coefficient \\\n",
    "$GR_f$ = fox grazing rate \\\n",
    "$GR_w, GR_b$ = grazing rate of rabbits on the white and black daisies \\\n",
    "$C_{GR_f}, C_{GR_r}$ = fox and rabbit grazing rate coefficient \\\n",
    "$x,x_r,x_f$ = fractional space available for each species \\\n",
    "$\\chi, \\chi_r, \\chi_f$ = the death rate of each species \n"
   ]
  },
  {
   "cell_type": "code",
   "execution_count": 13,
   "id": "421fba4a-d8d6-4e7b-b392-4b9f8e50462e",
   "metadata": {
    "ExecuteTime": {
     "end_time": "2022-02-17T03:40:23.936568Z",
     "start_time": "2022-02-17T03:40:23.927965Z"
    },
    "code_folding": [
     0
    ]
   },
   "outputs": [],
   "source": [
    "# functions for problem initial\n",
    "import context;\n",
    "from numlabs.lab5.lab5_funs import Integrator;\n",
    "import numpy as np;\n",
    "from collections import namedtuple;\n",
    "\n",
    "\n",
    "class RabInteg54(Integrator):\n",
    "    def set_yinit(self):\n",
    "        #\n",
    "        # read in 'albedo_white chi S0 L albedo_black R albedo_ground'\n",
    "        #\n",
    "        uservars = namedtuple('uservars', self.config['uservars'].keys())\n",
    "        self.uservars = uservars(**self.config['uservars'])\n",
    "        #\n",
    "        # read in 'whiteconc blackconc rab_i fox_i'\n",
    "        #\n",
    "        initvars = namedtuple('initvars', self.config['initvars'].keys())\n",
    "        self.initvars = initvars(**self.config['initvars'])\n",
    "        self.yinit = np.array(\n",
    "            [self.initvars.whiteconc, self.initvars.blackconc, self.initvars.rab_i, self.initvars.fox_i])\n",
    "        self.nvars = len(self.yinit)\n",
    "        return None\n",
    "\n",
    "    def __init__(self, coeff_file_name):\n",
    "        super().__init__(coeff_file_name)\n",
    "        self.set_yinit()\n",
    "\n",
    "    def find_temp(self, yvals):\n",
    "        \"\"\"\n",
    "            Calculate the temperatures over the white and black daisies\n",
    "            and the planetary equilibrium temperature given the daisy fractions\n",
    "            \n",
    "            input:  yvals -- array of dimension [2] with the white [0] and black [1]\n",
    "                    daisy fractiion\n",
    "            output:  white temperature (K), black temperature (K), equilibrium temperature (K)\n",
    "        \"\"\"\n",
    "        sigma = 5.67e-8  # Stefan Boltzman constant W/m^2/K^4\n",
    "        user = self.uservars\n",
    "        bare = 1.0 - yvals[0] - yvals[1]\n",
    "        albedo_p = bare * user.albedo_ground + \\\n",
    "            yvals[0] * user.albedo_white + yvals[1] * user.albedo_black\n",
    "        Te_4 = user.S0 / 4.0 * user.L * (1.0 - albedo_p) / sigma\n",
    "        temp_e = Te_4**0.25\n",
    "        eta = user.R * user.L * user.S0 / (4.0 * sigma)\n",
    "        temp_b = (eta * (albedo_p - user.albedo_black) + Te_4)**0.25\n",
    "        temp_w = (eta * (albedo_p - user.albedo_white) + Te_4)**0.25\n",
    "        return (temp_w, temp_b, temp_e)\n",
    "\n",
    "    def derivs5(self, y, t):\n",
    "        \"\"\"y[0]=fraction white daisies\n",
    "           y[1]=fraction black daisies\n",
    "           y[2]=initial rabbits\n",
    "           no feedback between daisies and\n",
    "           albedo_p (set to ground albedo)\n",
    "        \"\"\"\n",
    "        \n",
    "        temp_w, temp_b, temp_e = self.find_temp(y)\n",
    "\n",
    "        if (temp_b >= 277.5 and temp_b <= 312.5):\n",
    "            beta_b = 1.0 - 0.003265 * (295.0 - temp_b)**2.0\n",
    "        else:\n",
    "            beta_b = 0.0\n",
    "\n",
    "        if (temp_w >= 277.5 and temp_w <= 312.5):\n",
    "            beta_w = 1.0 - 0.003265 * (295.0 - temp_w)**2.0\n",
    "        else:\n",
    "            beta_w = 0.0\n",
    "        user = self.uservars\n",
    "        bare = 1.0 - y[0] - y[1]\n",
    "        \n",
    "        #beta is the daisie growth rate\n",
    "        #chi is the daisie death rate\n",
    "        #bare is the fractional coverage of the daisies\n",
    "\n",
    "        # rab_i = y[2]\n",
    "        # rabbits can exist on top of daisies\n",
    "        barerab = 1.0 - y[2]\n",
    "        barefox = 1.0 - y[3]\n",
    "\n",
    "        # fox and rabbit birth rate\n",
    "        rab_br = user.Crbr * (barerab * (y[0] + y[1]))\n",
    "        fox_br = user.Cfbr * (barefox * y[2])\n",
    "        \n",
    "        # fox and rabbit grazing rate \n",
    "        wd_graze = user.Crgr * y[2] * y[0]\n",
    "        bd_graze = user.Crgr * y[2] * y[1]\n",
    "        r_graze = user.Cfgr * y[3] * y[2]\n",
    "\n",
    "        # create a 1 x 2 element vector to hold the derivitive\n",
    "        # the grazing rate is subtracted from the\n",
    "        f = np.empty_like(y)\n",
    "        f[0] = y[0] * (beta_w * bare - user.chi) - wd_graze\n",
    "        f[1] = y[1] * (beta_b * bare - user.chi) - bd_graze\n",
    "    \n",
    "        # add the rabbit population to f\n",
    "        f[2] = y[2] * (rab_br - user.rabchi) - r_graze\n",
    "\n",
    "        # fox population\n",
    "        f[3] = y[3] * (fox_br - user.foxchi)\n",
    "        return f"
   ]
  },
  {
   "cell_type": "code",
   "execution_count": 14,
   "id": "875a7ba4-cba0-4126-aee7-e147b06077cc",
   "metadata": {
    "ExecuteTime": {
     "end_time": "2022-02-17T03:40:24.818994Z",
     "start_time": "2022-02-17T03:40:23.938484Z"
    },
    "code_folding": [
     0
    ]
   },
   "outputs": [
    {
     "name": "stdout",
     "output_type": "stream",
     "text": [
      "Black daisie steady state value =  1.3352205220997962e-09\n"
     ]
    },
    {
     "data": {
      "image/png": "[encoded data removed]",
      "text/plain": [
       "<Figure size 640x480 with 1 Axes>"
      ]
     },
     "metadata": {},
     "output_type": "display_data"
    }
   ],
   "source": [
    "# Solve and plot for problem initial\n",
    "import matplotlib.pyplot as plt\n",
    "import pandas as pd\n",
    "\n",
    "theSolver = RabInteg54('initial-grace1.yaml')\n",
    "timevals, yvals, errorlist = theSolver.timeloop5fixed()\n",
    "species = pd.DataFrame(yvals, columns=['white', 'black', 'rabbits', 'foxes'])\n",
    "\n",
    "thefig, theAx = plt.subplots(1, 1)\n",
    "line1, = theAx.plot(timevals, species['white'])\n",
    "line2, = theAx.plot(timevals, species['black'])\n",
    "line3, = theAx.plot(timevals, species['rabbits'])\n",
    "line4, = theAx.plot(timevals, species['foxes'])\n",
    "line1.set(linestyle='--', color='r', label='white daisies')\n",
    "line2.set(linestyle='--', color='k', label='black daisies')\n",
    "line3.set(linestyle='--', color='b', label='rabbits')\n",
    "line4.set(linestyle='--', color='g', label='foxes')\n",
    "#theAx.set_title('C_rbr = 1, C_rgr = 1, chi_rabbits = 0.3')\n",
    "theAx.set_xlabel('time')\n",
    "theAx.set_ylabel('fractional coverage')\n",
    "out = theAx.legend(loc='center right')\n",
    "print('Black daisie steady state value = ', yvals[-1,1])"
   ]
  },
  {
   "cell_type": "raw",
   "id": "6276cdb4-06f2-40c9-855f-f7e162e68265",
   "metadata": {},
   "source": []
  },
  {
   "cell_type": "markdown",
   "id": "6fe8c9ba-d739-47ef-aa1a-ffd0715228b6",
   "metadata": {},
   "source": [
    "2. Discussion:"
   ]
  },
  {
   "cell_type": "markdown",
   "id": "5389aa00-ff28-4c5c-a513-505cddaa8fff",
   "metadata": {},
   "source": [
    " - what this simulation can teach us about the real World.\n",
    "   \n",
    "This lab illustrates how in the hierarchy of species, there must be a greater abundance of food resources at the lowest level. There must be more daisies then there are rabbits who eat them, and there must be more rabbits than foxes who eat them. The fox population is more sensitive than that of the daisies and rabbits. Changes in the initial parameters of both the rabbits and daisies effect the foxes even though the fox don't directly interact with the daisies. There is a chain reaction when the original food resource is changed. \n"
   ]
  },
  {
   "cell_type": "markdown",
   "id": "31d06516-96fe-419c-b4a3-3011cf059d45",
   "metadata": {},
   "source": [
    " - the limitations of your model\n",
    "\n",
    "There is a smaller range of the initial population I can use for the foxes. As I already mentioned, the initial popluation of each species has to be decreasing as we move up the food chain, and the death rate of the foxes has to be smaller then that of the rabbits and daisies to find a non-zero eq., where as when it was just the rabbits and daisies, I could move the rabbit death rate up and down a bit and still find a non-zero equilibrium. But now with the foxes, there seems to be a broader range of values I can use for the birth and grazing rates."
   ]
  },
  {
   "cell_type": "markdown",
   "id": "61ea3d14-d9ea-4f4a-8345-03c04152561b",
   "metadata": {},
   "source": [
    " - some discussion of whether the various parameter values you use are reasonable, given what you know about daisies and mammals (e.g. what do your birth and death rates tell you about the average lifespan of a fox vs a rabbit vs a daisy on your planet, or the number of rabbits being born per rabbit?). \n",
    "\n",
    "I found that a non zero equilibirum can be found for all species when the foxes have a life that is about 2 thirds of the rabbits and foxes, but an actual foxes lifespan is more like one third of a rabbits. We also are able to make the lifespan of the daisies the same as the rabbits, which doesn't make sense since daisies typically have lifespans on the order of days. In the figure above, the rabbit birth rate is set to each rabbit birthing 1 rabbit, but rabbits usually give birth to 5-12 babies. But if we raise the birth rate to 5 babies per rabbit, the equilibrium goes to zero. We can lower the grazing rate of each rabbit to find the non-zero equilibrium again but then each rabbit only eating a portion of a daisie doesn't make sense either. So, we usually have to sacrifice the accuracy of one parameter in order to make another one more realistic.  "
   ]
  },
  {
   "cell_type": "markdown",
   "id": "6c5db18c-fb1a-4099-bde2-9b23a713cbd5",
   "metadata": {},
   "source": [
    " - describe (but don't code, and equations aren't necessary), an additional layer of complexity that could be added to the model to make it more realistic\n",
    "\n",
    "The daisy have a growth rate that is dependant on the temperature which depends on the solar flux in DaisyWorld. The coding of our equations sujest that the amount of solar radiation that hits the ground is the same everywhere in DaisyWorld. But we know that the sun hits the earth at different angles at different latitudes which changes the intensity of the solar flux. So, temperature changes with changes in latitude would make DaisyWorld more realistic. And we could also add seasonal cyles to DaisyWorld as they are also dependant on the planets position to the sun."
   ]
  },
  {
   "cell_type": "raw",
   "id": "22b93059-9b4b-48d7-b563-9b80e33d5352",
   "metadata": {},
   "source": []
  },
  {
   "cell_type": "markdown",
   "id": "b9e81a48-5567-4da6-bdde-5e0c80b1d32d",
   "metadata": {},
   "source": [
    "-----------------------------------------------------------------------------------------------------------------------------------------"
   ]
  },
  {
   "cell_type": "markdown",
   "id": "acd4dee4-01df-4dc9-a742-dff74dfac339",
   "metadata": {},
   "source": [
    "inital-grace.yaml\n",
    "\n",
    "timevars:\\\n",
    "$\\>$  dt: 0.05\\\n",
    "$\\>$  tstart: 0.0\\\n",
    "$\\>$  tend: 50.0\\\n",
    "uservars:\\\n",
    "$\\>$  albedo_white: 0.75\\\n",
    "$\\>$  chi: 0.3\\\n",
    "$\\>$  rabchi: 0.3\\\n",
    "$\\>$  foxchi: 0.2\\\n",
    "$\\>$  Crgr: 1\\\n",
    "$\\>$  Crbr: 1\\\n",
    "$\\>$  Cfgr: 1\\\n",
    "$\\>$  Cfbr: 1\\\n",
    "$\\>$  S0: 3668.0\\\n",
    "$\\>$  L: 1.3\\\n",
    "$\\>$  albedo_black: 0.25\\\n",
    "$\\>$  R: 0.12\\\n",
    "$\\>$  albedo_ground: 0.5\\\n",
    "initvars:\\\n",
    "$\\>$  whiteconc: 0.24\\\n",
    "$\\>$  blackconc: 0.01\\\n",
    "$\\>$  rab_i: 0.17\\\n",
    "$\\>$  fox_i: 0.15\\\n",
    "adaptvars:\\\n",
    "$\\>$  dtpassmin: 0.1\\\n",
    "$\\>$  dtpassmax: 5.0\\\n",
    "$\\>$  dtfailmax: 0.5\\\n",
    "$\\>$  dtfailmin: 0.1\\\n",
    "$\\>$  s: 0.9\\\n",
    "$\\>$  rtol: 1.0e-05\\\n",
    "$\\>$  atol: 1.0e-05\\\n",
    "$\\>$  maxsteps: 2000.0\\\n",
    "$\\>$  maxfail: 60.0"
   ]
  },
  {
   "cell_type": "raw",
   "id": "9e983102-53e2-49fe-8efe-9bb349296d7c",
   "metadata": {},
   "source": []
  }
 ],
 "metadata": {
  "kernelspec": {
   "display_name": "Python 3 (ipykernel)",
   "language": "python",
   "name": "python3"
  },
  "language_info": {
   "codemirror_mode": {
    "name": "ipython",
    "version": 3
   },
   "file_extension": ".py",
   "mimetype": "text/x-python",
   "name": "python",
   "nbconvert_exporter": "python",
   "pygments_lexer": "ipython3",
   "version": "3.12.2"
  }
 },
 "nbformat": 4,
 "nbformat_minor": 5
}
